{
 "cells": [
  {
   "cell_type": "code",
   "execution_count": 2,
   "metadata": {},
   "outputs": [],
   "source": [
    "from dotenv import load_dotenv\n",
    "import os\n",
    "from autogen_agentchat.agents import AssistantAgent\n",
    "from autogen_agentchat.teams import RoundRobinGroupChat\n",
    "from autogen_agentchat.ui import Console\n",
    "from autogen_ext.models.openai import OpenAIChatCompletionClient"
   ]
  },
  {
   "cell_type": "code",
   "execution_count": 1,
   "metadata": {},
   "outputs": [],
   "source": [
    "async def get_weather(city: str) -> str:\n",
    "    return f\"The weather in {city} is 73 degree and sunny.\""
   ]
  },
  {
   "cell_type": "code",
   "execution_count": 3,
   "metadata": {},
   "outputs": [],
   "source": [
    "async def main() -> None:\n",
    "    w_agent = AssistantAgent(name=\"Weather_Agent\",\n",
    "                             model_client=OpenAIChatCompletionClient(model=\"gpt-4o-2024-08-06\", api_key=os.getenv(\"API_KEY\")),\n",
    "                             tools=[get_weather])\n",
    "\n",
    "    agent_team = RoundRobinGroupChat([w_agent], max_turns=1)\n",
    "\n",
    "    while True:\n",
    "        user_input = input(\"Enter a message (type 'exit' to leave): \")\n",
    "        if user_input.strip().lower() == \"exit\":\n",
    "            break\n",
    "        stream = agent_team.run_stream(task=user_input)\n",
    "        await Console(stream)"
   ]
  },
  {
   "cell_type": "code",
   "execution_count": 4,
   "metadata": {},
   "outputs": [
    {
     "name": "stdout",
     "output_type": "stream",
     "text": [
      "---------- user ----------\n",
      "test\n",
      "---------- Weather_Agent ----------\n",
      "Hello! How can I assist you today? If you have any questions or need help with something, feel free to let me know.\n",
      "---------- user ----------\n",
      "Paris\n",
      "---------- Weather_Agent ----------\n",
      "[FunctionCall(id='call_WISPh8UoigFbhLn21wIpAs2Q', arguments='{\"city\":\"Paris\"}', name='get_weather')]\n",
      "---------- Weather_Agent ----------\n",
      "[FunctionExecutionResult(content='The weather in Paris is 73 degree and sunny.', call_id='call_WISPh8UoigFbhLn21wIpAs2Q')]\n",
      "---------- Weather_Agent ----------\n",
      "The weather in Paris is 73 degree and sunny.\n"
     ]
    }
   ],
   "source": [
    "import nest_asyncio\n",
    "nest_asyncio.apply()\n",
    "\n",
    "import asyncio\n",
    "asyncio.run(main())\n"
   ]
  },
  {
   "cell_type": "code",
   "execution_count": null,
   "metadata": {},
   "outputs": [],
   "source": []
  }
 ],
 "metadata": {
  "kernelspec": {
   "display_name": "Python 3",
   "language": "python",
   "name": "python3"
  },
  "language_info": {
   "codemirror_mode": {
    "name": "ipython",
    "version": 3
   },
   "file_extension": ".py",
   "mimetype": "text/x-python",
   "name": "python",
   "nbconvert_exporter": "python",
   "pygments_lexer": "ipython3",
   "version": "3.13.1"
  }
 },
 "nbformat": 4,
 "nbformat_minor": 2
}
