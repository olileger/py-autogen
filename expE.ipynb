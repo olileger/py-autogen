{
 "cells": [
  {
   "cell_type": "markdown",
   "metadata": {},
   "source": [
    "# Teams"
   ]
  },
  {
   "cell_type": "code",
   "execution_count": 3,
   "metadata": {},
   "outputs": [],
   "source": [
    "from autogen_agentchat.agents import AssistantAgent, UserProxyAgent\n",
    "from autogen_agentchat.conditions import TextMentionTermination\n",
    "from autogen_agentchat.teams import RoundRobinGroupChat\n",
    "from autogen_agentchat.ui import Console\n",
    "from autogen_ext.models.openai import OpenAIChatCompletionClient\n",
    "import os"
   ]
  },
  {
   "cell_type": "code",
   "execution_count": 4,
   "metadata": {},
   "outputs": [
    {
     "name": "stdout",
     "output_type": "stream",
     "text": [
      "---------- user ----------\n",
      "Write a 4-line poem about the ocean.\n",
      "---------- assistant ----------\n",
      "The ocean whispers tales of yore,  \n",
      "Its waves embrace the sandy shore.  \n",
      "Beneath the moon's soft, silvery gleam,  \n",
      "It cradles dreams within its stream.  \n",
      "\n",
      "TERMINATE\n",
      "---------- user_proxy ----------\n",
      "continue\n",
      "---------- assistant ----------\n",
      "The sunlight dances on its crest,  \n",
      "A tranquil haven for souls to rest.  \n",
      "Infinite hues in azure delight,  \n",
      "The ocean's wonder, a timeless sight.  \n",
      "\n",
      "TERMINATE\n",
      "---------- user_proxy ----------\n",
      "write 6 lines\n",
      "---------- assistant ----------\n",
      "The ocean whispers tales of yore,  \n",
      "Its waves embrace the sandy shore.  \n",
      "Beneath the moon's soft, silvery gleam,  \n",
      "It cradles dreams within its stream.  \n",
      "The sunlight dances on its crest,  \n",
      "A tranquil haven for souls to rest.  \n",
      "\n",
      "TERMINATE\n",
      "---------- user_proxy ----------\n",
      "continue\n",
      "---------- assistant ----------\n",
      "Infinite hues in azure delight,  \n",
      "The ocean's wonder, a timeless sight.  \n",
      "Secret depths where mysteries lay,  \n",
      "Guarded by creatures that softly sway.  \n",
      "\n",
      "TERMINATE\n",
      "---------- user_proxy ----------\n",
      "stop writing a poem. Now imagine a crypto algorithm very simple and not already existing\n",
      "---------- assistant ----------\n",
      "Here's a simple, hypothetical cryptocurrency algorithm named \"BitShiftCoin\":\n",
      "\n",
      "### BitShiftCoin Algorithm\n",
      "\n",
      "**1. Initialization:**\n",
      "\n",
      "- Start with a 256-bit random key (K) unique to each user.\n",
      "- Use a public prime number (P) shared across the network.\n",
      "\n",
      "**2. Process:**\n",
      "\n",
      "- **Step 1:** For each transaction, generate a nonce (N) that is a 128-bit random number.\n",
      "  \n",
      "- **Step 2:** Concatenate the key (K) and the nonce (N) to form a 384-bit string.\n",
      "\n",
      "- **Step 3:** Perform a bitwise circular left shift on this concatenated string. The number of positions to shift is determined by the last 8 bits of the nonce (N).\n",
      "  \n",
      "- **Step 4:** After shifting, split the 384-bit string back into a 256-bit part and a 128-bit part.\n",
      "\n",
      "- **Step 5:** Apply an XOR operation between each byte of the 256-bit part and the equivalent byte of the key (K). This results in an encrypted transaction identifier (E).\n",
      "\n",
      "- **Step 6:** To verify the transaction, reverse the process: XOR E with K and perform a bitwise circular right shift using the last 8 bits of N.\n",
      "\n",
      "**3. Verification:**\n",
      "\n",
      "Any node in the network can verify the transaction by checking the outcome of the above reverse process matches the expected original input.\n",
      "\n",
      "**Security Note:**\n",
      "\n",
      "While this algorithm illustrates basic principles like bit shifting and XOR operations, its simplicity means it would not be secure in practice for real-world cryptocurrency applications without additional complex cryptographic measures to safeguard against attacks.\n",
      "\n",
      "TERMINATE\n",
      "---------- user_proxy ----------\n",
      "go\n",
      "---------- assistant ----------\n",
      "Please let me know what specific aspect or extension you'd like me to work on regarding BitShiftCoin or if there's anything else you need help with! \n",
      "\n",
      "TERMINATE\n",
      "---------- user_proxy ----------\n",
      "OKOK\n"
     ]
    },
    {
     "data": {
      "text/plain": [
       "TaskResult(messages=[TextMessage(source='user', models_usage=None, content='Write a 4-line poem about the ocean.', type='TextMessage'), TextMessage(source='assistant', models_usage=RequestUsage(prompt_tokens=46, completion_tokens=45), content=\"The ocean whispers tales of yore,  \\nIts waves embrace the sandy shore.  \\nBeneath the moon's soft, silvery gleam,  \\nIt cradles dreams within its stream.  \\n\\nTERMINATE\", type='TextMessage'), UserInputRequestedEvent(source='user_proxy', models_usage=None, request_id='248953fb-b7d8-4e2c-8bcf-6ce73a4d174c', content='', type='UserInputRequestedEvent'), TextMessage(source='user_proxy', models_usage=None, content='continue', type='TextMessage'), TextMessage(source='assistant', models_usage=RequestUsage(prompt_tokens=103, completion_tokens=38), content=\"The sunlight dances on its crest,  \\nA tranquil haven for souls to rest.  \\nInfinite hues in azure delight,  \\nThe ocean's wonder, a timeless sight.  \\n\\nTERMINATE\", type='TextMessage'), UserInputRequestedEvent(source='user_proxy', models_usage=None, request_id='ab637972-891f-4f29-984b-27606c2ebe78', content='', type='UserInputRequestedEvent'), TextMessage(source='user_proxy', models_usage=None, content='write 6 lines', type='TextMessage'), TextMessage(source='assistant', models_usage=RequestUsage(prompt_tokens=156, completion_tokens=62), content=\"The ocean whispers tales of yore,  \\nIts waves embrace the sandy shore.  \\nBeneath the moon's soft, silvery gleam,  \\nIt cradles dreams within its stream.  \\nThe sunlight dances on its crest,  \\nA tranquil haven for souls to rest.  \\n\\nTERMINATE\", type='TextMessage'), UserInputRequestedEvent(source='user_proxy', models_usage=None, request_id='cca5809f-27d5-45f0-9919-ac850258df1c', content='', type='UserInputRequestedEvent'), TextMessage(source='user_proxy', models_usage=None, content='continue', type='TextMessage'), TextMessage(source='assistant', models_usage=RequestUsage(prompt_tokens=230, completion_tokens=37), content=\"Infinite hues in azure delight,  \\nThe ocean's wonder, a timeless sight.  \\nSecret depths where mysteries lay,  \\nGuarded by creatures that softly sway.  \\n\\nTERMINATE\", type='TextMessage'), UserInputRequestedEvent(source='user_proxy', models_usage=None, request_id='9ade9d18-379c-4093-abe0-5842328d03b3', content='', type='UserInputRequestedEvent'), TextMessage(source='user_proxy', models_usage=None, content='stop writing a poem. Now imagine a crypto algorithm very simple and not already existing', type='TextMessage'), TextMessage(source='assistant', models_usage=RequestUsage(prompt_tokens=294, completion_tokens=337), content='Here\\'s a simple, hypothetical cryptocurrency algorithm named \"BitShiftCoin\":\\n\\n### BitShiftCoin Algorithm\\n\\n**1. Initialization:**\\n\\n- Start with a 256-bit random key (K) unique to each user.\\n- Use a public prime number (P) shared across the network.\\n\\n**2. Process:**\\n\\n- **Step 1:** For each transaction, generate a nonce (N) that is a 128-bit random number.\\n  \\n- **Step 2:** Concatenate the key (K) and the nonce (N) to form a 384-bit string.\\n\\n- **Step 3:** Perform a bitwise circular left shift on this concatenated string. The number of positions to shift is determined by the last 8 bits of the nonce (N).\\n  \\n- **Step 4:** After shifting, split the 384-bit string back into a 256-bit part and a 128-bit part.\\n\\n- **Step 5:** Apply an XOR operation between each byte of the 256-bit part and the equivalent byte of the key (K). This results in an encrypted transaction identifier (E).\\n\\n- **Step 6:** To verify the transaction, reverse the process: XOR E with K and perform a bitwise circular right shift using the last 8 bits of N.\\n\\n**3. Verification:**\\n\\nAny node in the network can verify the transaction by checking the outcome of the above reverse process matches the expected original input.\\n\\n**Security Note:**\\n\\nWhile this algorithm illustrates basic principles like bit shifting and XOR operations, its simplicity means it would not be secure in practice for real-world cryptocurrency applications without additional complex cryptographic measures to safeguard against attacks.\\n\\nTERMINATE', type='TextMessage'), UserInputRequestedEvent(source='user_proxy', models_usage=None, request_id='1ca15fdd-d847-46cb-9c6e-dd5379505608', content='', type='UserInputRequestedEvent'), TextMessage(source='user_proxy', models_usage=None, content='go', type='TextMessage'), TextMessage(source='assistant', models_usage=RequestUsage(prompt_tokens=643, completion_tokens=34), content=\"Please let me know what specific aspect or extension you'd like me to work on regarding BitShiftCoin or if there's anything else you need help with! \\n\\nTERMINATE\", type='TextMessage'), UserInputRequestedEvent(source='user_proxy', models_usage=None, request_id='2791ca89-fdbc-40fe-ad3e-4e9d233ca800', content='', type='UserInputRequestedEvent'), TextMessage(source='user_proxy', models_usage=None, content='OKOK', type='TextMessage')], stop_reason=\"Text 'OKOK' mentioned\")"
      ]
     },
     "execution_count": 4,
     "metadata": {},
     "output_type": "execute_result"
    }
   ],
   "source": [
    "# Create the model client.\n",
    "gpt4o = OpenAIChatCompletionClient(\n",
    "    model=\"gpt-4o-2024-08-06\",\n",
    "    api_key=os.getenv(\"API_KEY\")\n",
    ")\n",
    "\n",
    "# Create the agents.\n",
    "assistant = AssistantAgent(\"assistant\", model_client=gpt4o)\n",
    "user_proxy = UserProxyAgent(\"user_proxy\", input_func=input)  # Use input to get user input from console.\n",
    "\n",
    "# Create the termination condition which will end the conversation when the user says \"OKOK\".\n",
    "termination = TextMentionTermination(\"OKOK\")\n",
    "\n",
    "# Create the team.\n",
    "team = RoundRobinGroupChat([assistant, user_proxy], termination_condition=termination)\n",
    "\n",
    "# Run the conversation and stream to the console.\n",
    "stream = team.run_stream(task=\"Write a 4-line poem about the ocean.\")\n",
    "# Use asyncio.run(...) when running in a script.\n",
    "await Console(stream)"
   ]
  }
 ],
 "metadata": {
  "kernelspec": {
   "display_name": "Python 3",
   "language": "python",
   "name": "python3"
  },
  "language_info": {
   "codemirror_mode": {
    "name": "ipython",
    "version": 3
   },
   "file_extension": ".py",
   "mimetype": "text/x-python",
   "name": "python",
   "nbconvert_exporter": "python",
   "pygments_lexer": "ipython3",
   "version": "3.13.1"
  }
 },
 "nbformat": 4,
 "nbformat_minor": 2
}
