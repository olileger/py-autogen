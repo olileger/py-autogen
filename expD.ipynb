{
 "cells": [
  {
   "cell_type": "code",
   "execution_count": 1,
   "metadata": {},
   "outputs": [],
   "source": [
    "import asyncio\n",
    "import nest_asyncio\n",
    "nest_asyncio.apply()\n",
    "\n",
    "import os\n",
    "\n",
    "from autogen_agentchat.agents import AssistantAgent\n",
    "from autogen_agentchat.base import TaskResult\n",
    "from autogen_agentchat.conditions import ExternalTermination, TextMentionTermination\n",
    "from autogen_agentchat.teams import RoundRobinGroupChat\n",
    "from autogen_agentchat.ui import Console\n",
    "from autogen_core import CancellationToken\n",
    "from autogen_ext.models.openai import OpenAIChatCompletionClient"
   ]
  },
  {
   "cell_type": "code",
   "execution_count": 2,
   "metadata": {},
   "outputs": [],
   "source": [
    "gpt4o = OpenAIChatCompletionClient(\n",
    "    model=\"gpt-4o-2024-08-06\",\n",
    "    api_key=os.getenv(\"API_KEY\")\n",
    ")"
   ]
  },
  {
   "cell_type": "code",
   "execution_count": 3,
   "metadata": {},
   "outputs": [],
   "source": [
    "# Create the primary agent.\n",
    "fstAgent = AssistantAgent(\n",
    "    \"primary\",\n",
    "    model_client=gpt4o,\n",
    "    system_message=\"You are a helpful AI assistant.\",\n",
    ")\n",
    "\n",
    "# Create the critic agent.\n",
    "sndAgent = AssistantAgent(\n",
    "    \"critic\",\n",
    "    model_client=gpt4o,\n",
    "    system_message=\"Provide constructive feedback. Respond with 'APPROVE' to when your feedbacks are addressed.\",\n",
    ")\n",
    "# Define a termination condition that stops the task if the critic approves.\n",
    "approved = TextMentionTermination(\"APPROVE\")"
   ]
  },
  {
   "cell_type": "code",
   "execution_count": 4,
   "metadata": {},
   "outputs": [],
   "source": [
    "# Create a team with the primary and critic agents.\n",
    "team = RoundRobinGroupChat([fstAgent, sndAgent], termination_condition=approved)"
   ]
  },
  {
   "cell_type": "code",
   "execution_count": 12,
   "metadata": {},
   "outputs": [
    {
     "name": "stdout",
     "output_type": "stream",
     "text": [
      "TaskResult(messages=[TextMessage(source='user', models_usage=None, content='Write a short poem about the fall season.', type='TextMessage'), TextMessage(source='primary', models_usage=RequestUsage(prompt_tokens=28, completion_tokens=118), content=\"Leaves of amber gently fall,  \\nWhispering the end of summer's call.  \\nA crisp wind dances through the trees,  \\nAs nature’s palette blazes with ease.  \\n\\nGolden hues and scarlet dreams,  \\nMirror the sun’s soft, dwindling beams.  \\nPumpkin patches and fireside eves,  \\nEcho the harvest's fruitful reprieves.  \\n\\nThe world slows in autumn's embrace,  \\nTime to reflect, to pause, to grace.  \\nIn the quiet rustle of fall's gentle gust,  \\nWe find beauty in change and learn to trust.\", type='TextMessage'), TextMessage(source='critic', models_usage=RequestUsage(prompt_tokens=163, completion_tokens=145), content='This poem beautifully captures the essence of the fall season. The imagery of \"leaves of amber\" and \"nature\\'s palette blazes with ease\" vividly portrays the visual transformation of autumn. The poem evokes a sense of calm and reflection, fitting for the season\\'s slowing down before winter. \\n\\nFor improvement, consider incorporating sensory details beyond visuals, such as the smell of fall leaves or the sound of crunching leaves underfoot, to create a more immersive experience. Additionally, exploring personal emotions or memories tied to fall could add a deeper layer of connection for readers.\\n\\nOverall, this poem is an evocative depiction of autumn with room for expanded sensory and emotional elements.\\n\\nPlease let me know if you have made any adjustments.', type='TextMessage'), TextMessage(source='primary', models_usage=RequestUsage(prompt_tokens=301, completion_tokens=152), content=\"Thank you for the thoughtful critique! Here’s a revised version incorporating more sensory details and personal reflection:\\n\\nLeaves of amber gently sway,  \\nWhispering the end of summer's day.  \\nA crisp wind weaves through branches high,  \\nCarrying scents of earth and sky.  \\n\\nPumpkin spice and cinnamon trails,  \\nMingle with tales of harvest gales.  \\nFeet crunch on paths of russet gold,  \\nEchoes of memories quietly told.  \\n\\nFireside warmth in twilight's glow,  \\nInvites us to embrace the slow.  \\nReflecting in autumn’s gentle grace,  \\nWe find solace in this cherished space.  \\n\\nIn the rustle of leaves, a tender trust,  \\nWhere change is welcomed, and hearts adjust.\", type='TextMessage'), TextMessage(source='critic', models_usage=RequestUsage(prompt_tokens=470, completion_tokens=138), content='This revised version of the poem beautifully expands on the original by incorporating sensory details and personal reflections. The mention of \"pumpkin spice and cinnamon trails\" and \"feet crunch on paths of russet gold\" effectively engages the reader\\'s senses of smell and sound, creating a more immersive experience. The addition of personal reflection in \"echoes of memories quietly told\" and \"change is welcomed, and hearts adjust\" adds a deeper emotional connection to the season.\\n\\nThe new imagery and sensory details enhance the overall warmth and introspection typically associated with fall, making the poem resonate even more with readers.\\n\\nThis is a captivating and evocative representation of the fall season. Well done!\\n\\nAPPROVE', type='TextMessage')], stop_reason=\"Text 'APPROVE' mentioned\")\n"
     ]
    }
   ],
   "source": [
    "# Now run the team til the end\n",
    "# result = await team.run(task=\"Write a short poem about the fall season.\")\n",
    "# print(result)"
   ]
  },
  {
   "cell_type": "code",
   "execution_count": 5,
   "metadata": {},
   "outputs": [
    {
     "name": "stdout",
     "output_type": "stream",
     "text": [
      "source='user' models_usage=None content='Write a short poem about the fall season, in french, in 4 sentences.' type='TextMessage'\n",
      "source='primary' models_usage=RequestUsage(prompt_tokens=36, completion_tokens=44) content=\"Les feuilles dansent au vent léger,  \\nCouleurs d'or et de rouille dispersées.  \\nLe parfum des pommes embaume les champs,  \\nL'automne chante sa douce mélodie des temps.\" type='TextMessage'\n",
      "source='critic' models_usage=RequestUsage(prompt_tokens=97, completion_tokens=238) content='Your poem beautifully captures the essence of the fall season with vivid imagery and sensory details. The use of personification and the evocation of smell and sound add depth to the experience of autumn. Here are a few suggestions to further refine it:\\n\\n1. In the first line, consider emphasizing the gracefulness of the leaves\\' movement to enhance the visual imagery. For example: \"Les feuilles dansent avec grâce au vent léger\".\\n\\n2. The second line could benefit from a bit more specificity regarding the colors or the scattering effect, perhaps: \"Couleurs d\\'or, de rouille, en tapis dispersées\".\\n\\n3. For the third line, \"empoigne\" might convey a stronger sense of the apple fragrance enveloping the fields rather than \"embaume\".\\n\\n4. The final line is a strong and evocative closing. It could remain as is, or you might explore substituting \"chante\" with a word that conveys a more specific sense of sound, such as \"murmure\" if you aim for a softer tone.\\n\\nOverall, you\\'ve crafted a lovely and evocative French poem about autumn. Applying these suggestions can further enrich the imagery and emotional impact of your piece.' type='TextMessage'\n",
      "source='primary' models_usage=RequestUsage(prompt_tokens=328, completion_tokens=70) content=\"Thank you for the thoughtful feedback. Here’s a refined version of the poem, incorporating your suggestions:\\n\\nLes feuilles dansent avec grâce au vent léger,  \\nCouleurs d'or, de rouille, en tapis dispersées.  \\nLe parfum des pommes empoigne les champs,  \\nL'automne murmure sa douce mélodie des temps.\" type='TextMessage'\n",
      "source='critic' models_usage=RequestUsage(prompt_tokens=415, completion_tokens=4) content='APPROVE' type='TextMessage'\n",
      "Stop Reason: Text 'APPROVE' mentioned\n"
     ]
    }
   ],
   "source": [
    "# Run the team and wait for incoming messages.\n",
    "async for message in team.run_stream(task=\"Write a short poem about the fall season, in french, in 4 sentences.\"):  # type: ignore\n",
    "    if isinstance(message, TaskResult):\n",
    "        print(\"Stop Reason:\", message.stop_reason)\n",
    "    else:\n",
    "        print(message)"
   ]
  },
  {
   "cell_type": "code",
   "execution_count": 6,
   "metadata": {},
   "outputs": [
    {
     "data": {
      "text/plain": [
       "<coroutine object Console at 0x753405d74640>"
      ]
     },
     "execution_count": 6,
     "metadata": {},
     "output_type": "execute_result"
    }
   ],
   "source": [
    "# Ou plus simplement\n",
    "await team.reset()\n",
    "Console(team.run_stream(task=\"Write a short poem about the fall season, in french, in 4 sentences.\"))"
   ]
  }
 ],
 "metadata": {
  "kernelspec": {
   "display_name": "Python 3",
   "language": "python",
   "name": "python3"
  },
  "language_info": {
   "codemirror_mode": {
    "name": "ipython",
    "version": 3
   },
   "file_extension": ".py",
   "mimetype": "text/x-python",
   "name": "python",
   "nbconvert_exporter": "python",
   "pygments_lexer": "ipython3",
   "version": "3.13.1"
  }
 },
 "nbformat": 4,
 "nbformat_minor": 2
}
