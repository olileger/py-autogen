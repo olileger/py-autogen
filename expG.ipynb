{
 "cells": [
  {
   "cell_type": "code",
   "execution_count": 3,
   "metadata": {},
   "outputs": [],
   "source": [
    "from autogen_agentchat.agents import AssistantAgent\n",
    "from autogen_agentchat.conditions import MaxMessageTermination, TextMentionTermination\n",
    "from autogen_agentchat.teams import RoundRobinGroupChat\n",
    "from autogen_agentchat.ui import Console\n",
    "from autogen_ext.models.openai import OpenAIChatCompletionClient\n",
    "import os"
   ]
  },
  {
   "cell_type": "code",
   "execution_count": 4,
   "metadata": {},
   "outputs": [],
   "source": [
    "gpt4o = OpenAIChatCompletionClient(\n",
    "    model=\"gpt-4o\",\n",
    "    temperature=1,\n",
    "    api_key=os.getenv(\"API_KEY\")\n",
    ")"
   ]
  },
  {
   "cell_type": "code",
   "execution_count": 6,
   "metadata": {},
   "outputs": [],
   "source": [
    "# Create the primary agent.\n",
    "pa = AssistantAgent(\n",
    "    \"primary\",\n",
    "    model_client=gpt4o,\n",
    "    system_message=\"You are a helpful AI assistant.\",\n",
    ")\n",
    "\n",
    "# Create the critic agent.\n",
    "ca = AssistantAgent(\n",
    "    \"critic\",\n",
    "    model_client=gpt4o,\n",
    "    system_message=\"Provide constructive feedback for every message. Respond with 'APPROVE' to when your feedbacks are addressed.\",\n",
    ")"
   ]
  },
  {
   "cell_type": "code",
   "execution_count": null,
   "metadata": {},
   "outputs": [
    {
     "name": "stdout",
     "output_type": "stream",
     "text": [
      "---------- user ----------\n",
      "Write a unique, Haiku about the weather in Paris\n",
      "---------- primary ----------\n",
      "Gentle rains whisper,  \n",
      "Eiffel dances through the mist—  \n",
      "Paris breathes in gray.\n",
      "---------- critic ----------\n",
      "This haiku beautifully captures the essence of Parisian weather with vivid imagery. The phrase \"gentle rains whisper\" sets a serene tone, the action of the \"Eiffel dances through the mist\" adds a dynamic element, and \"Paris breathes in gray\" effectively sums up the ambiance. Consider enhancing the imagery by using more specific or unique descriptors for the rain or mist, which could add even more depth and color to the scene. Overall, it's a lovely haiku that evokes the city's mood. \n",
      "Please address this feedback for improvement.\n"
     ]
    },
    {
     "data": {
      "text/plain": [
       "TaskResult(messages=[TextMessage(source='user', models_usage=None, content='Write a unique, Haiku about the weather in Paris', type='TextMessage'), TextMessage(source='primary', models_usage=RequestUsage(prompt_tokens=30, completion_tokens=21), content='Gentle rains whisper,  \\nEiffel dances through the mist—  \\nParis breathes in gray.', type='TextMessage'), TextMessage(source='critic', models_usage=RequestUsage(prompt_tokens=71, completion_tokens=110), content='This haiku beautifully captures the essence of Parisian weather with vivid imagery. The phrase \"gentle rains whisper\" sets a serene tone, the action of the \"Eiffel dances through the mist\" adds a dynamic element, and \"Paris breathes in gray\" effectively sums up the ambiance. Consider enhancing the imagery by using more specific or unique descriptors for the rain or mist, which could add even more depth and color to the scene. Overall, it\\'s a lovely haiku that evokes the city\\'s mood. \\nPlease address this feedback for improvement.', type='TextMessage')], stop_reason='Maximum number of messages 3 reached, current message count: 3')"
      ]
     },
     "execution_count": 7,
     "metadata": {},
     "output_type": "execute_result"
    }
   ],
   "source": [
    "#max_msg_termination = MaxMessageTermination(max_messages=3)\n",
    "#round_robin_team = RoundRobinGroupChat([pa, ca], termination_condition=max_msg_termination)\n",
    "\n",
    "# Use asyncio.run(...) if you are running this script as a standalone script.\n",
    "#await Console(round_robin_team.run_stream(task=\"Write a unique, Haiku about the weather in Paris\"))"
   ]
  },
  {
   "cell_type": "code",
   "execution_count": null,
   "metadata": {},
   "outputs": [
    {
     "name": "stdout",
     "output_type": "stream",
     "text": [
      "---------- primary ----------\n",
      "Soft drizzles murmur,  \n",
      "Eiffel sways in silver veils—  \n",
      "Paris breathes in calm.\n",
      "---------- critic ----------\n",
      "This revised haiku effectively incorporates more specific and vivid descriptors, enhancing the imagery and mood. The use of \"soft drizzles murmur\" paints a gentle and inviting picture of the rain. The phrase \"Eiffel sways in silver veils\" provides a fresh and vibrant depiction of the scene. \"Paris breathes in calm\" nicely concludes the haiku with a sense of tranquility. Overall, these adjustments have improved the haiku's depth and imagery. Well done! \n",
      "\n",
      "APPROVE\n",
      "---------- primary ----------\n",
      "Thank you for your feedback and approval! I'm glad the revisions resonated with you and enhanced the haiku's imagery. If you have any more requests or need further assistance, feel free to ask!\n"
     ]
    },
    {
     "data": {
      "text/plain": [
       "TaskResult(messages=[TextMessage(source='primary', models_usage=RequestUsage(prompt_tokens=171, completion_tokens=25), content='Soft drizzles murmur,  \\nEiffel sways in silver veils—  \\nParis breathes in calm.', type='TextMessage'), TextMessage(source='critic', models_usage=RequestUsage(prompt_tokens=216, completion_tokens=101), content='This revised haiku effectively incorporates more specific and vivid descriptors, enhancing the imagery and mood. The use of \"soft drizzles murmur\" paints a gentle and inviting picture of the rain. The phrase \"Eiffel sways in silver veils\" provides a fresh and vibrant depiction of the scene. \"Paris breathes in calm\" nicely concludes the haiku with a sense of tranquility. Overall, these adjustments have improved the haiku\\'s depth and imagery. Well done! \\n\\nAPPROVE', type='TextMessage'), TextMessage(source='primary', models_usage=RequestUsage(prompt_tokens=307, completion_tokens=41), content=\"Thank you for your feedback and approval! I'm glad the revisions resonated with you and enhanced the haiku's imagery. If you have any more requests or need further assistance, feel free to ask!\", type='TextMessage')], stop_reason='Maximum number of messages 3 reached, current message count: 3')"
      ]
     },
     "execution_count": 8,
     "metadata": {},
     "output_type": "execute_result"
    }
   ],
   "source": [
    "# Use asyncio.run(...) if you are running this script as a standalone script.\n",
    "#await Console(round_robin_team.run_stream())"
   ]
  },
  {
   "cell_type": "code",
   "execution_count": 9,
   "metadata": {},
   "outputs": [
    {
     "name": "stdout",
     "output_type": "stream",
     "text": [
      "---------- user ----------\n",
      "Write a unique, Haiku about the weather in Paris\n",
      "---------- primary ----------\n",
      "Misty dawn unfolds,  \n",
      "Cobblestones glisten softly—  \n",
      "Paris wraps in gray.\n",
      "---------- critic ----------\n",
      "This haiku captures the tranquil and atmospheric essence of morning weather in Paris. The opening line, \"Misty dawn unfolds,\" sets a calm and picturesque scene. Using \"Cobblestones glisten softly\" adds a tactile element, enhancing the imagery of the wet streets. The closing line, \"Paris wraps in gray,\" effectively conveys the encompassing presence of the city under such weather.\n",
      "\n",
      "Consider further diversifying the verbs or imagery to bring an additional layer of uniqueness, such as the specific effect of the mist on the cityscape, to evoke even more vivid impressions of Parisian weather. Overall, this haiku is beautifully constructed and reflective. Keep up the great work! Please address this feedback for improvement.\n",
      "---------- primary ----------\n",
      "Shrouded mist unveils,  \n",
      "Cobblestones shimmer softly—  \n",
      "Gray whispers through streets.\n",
      "---------- critic ----------\n",
      "This revised haiku successfully incorporates more vivid verbs and imagery, enhancing the portrayal of Parisian weather. The phrase \"Shrouded mist unveils\" adds a sense of mystery and revelation, drawing the reader in. \"Cobblestones shimmer softly\" maintains the tactile and gentle impression of the wet streets. Closing with \"Gray whispers through streets\" beautifully captures the subtle, pervasive presence of the gray weather.\n",
      "\n",
      "These adjustments have created a more nuanced and evocative description. Excellent work on creating a unique and atmospheric haiku!\n",
      "\n",
      "APPROVE\n"
     ]
    },
    {
     "data": {
      "text/plain": [
       "TaskResult(messages=[TextMessage(source='user', models_usage=None, content='Write a unique, Haiku about the weather in Paris', type='TextMessage'), TextMessage(source='primary', models_usage=RequestUsage(prompt_tokens=369, completion_tokens=20), content='Misty dawn unfolds,  \\nCobblestones glisten softly—  \\nParis wraps in gray.', type='TextMessage'), TextMessage(source='critic', models_usage=RequestUsage(prompt_tokens=363, completion_tokens=141), content='This haiku captures the tranquil and atmospheric essence of morning weather in Paris. The opening line, \"Misty dawn unfolds,\" sets a calm and picturesque scene. Using \"Cobblestones glisten softly\" adds a tactile element, enhancing the imagery of the wet streets. The closing line, \"Paris wraps in gray,\" effectively conveys the encompassing presence of the city under such weather.\\n\\nConsider further diversifying the verbs or imagery to bring an additional layer of uniqueness, such as the specific effect of the mist on the cityscape, to evoke even more vivid impressions of Parisian weather. Overall, this haiku is beautifully constructed and reflective. Keep up the great work! Please address this feedback for improvement.', type='TextMessage'), TextMessage(source='primary', models_usage=RequestUsage(prompt_tokens=540, completion_tokens=21), content='Shrouded mist unveils,  \\nCobblestones shimmer softly—  \\nGray whispers through streets.', type='TextMessage'), TextMessage(source='critic', models_usage=RequestUsage(prompt_tokens=535, completion_tokens=108), content='This revised haiku successfully incorporates more vivid verbs and imagery, enhancing the portrayal of Parisian weather. The phrase \"Shrouded mist unveils\" adds a sense of mystery and revelation, drawing the reader in. \"Cobblestones shimmer softly\" maintains the tactile and gentle impression of the wet streets. Closing with \"Gray whispers through streets\" beautifully captures the subtle, pervasive presence of the gray weather.\\n\\nThese adjustments have created a more nuanced and evocative description. Excellent work on creating a unique and atmospheric haiku!\\n\\nAPPROVE', type='TextMessage')], stop_reason=\"Text 'APPROVE' mentioned\")"
      ]
     },
     "execution_count": 9,
     "metadata": {},
     "output_type": "execute_result"
    }
   ],
   "source": [
    "max_msg_termination = MaxMessageTermination(max_messages=10)\n",
    "text_termination = TextMentionTermination(\"APPROVE\")\n",
    "\n",
    "round_robin_team = RoundRobinGroupChat([pa, ca], termination_condition=max_msg_termination | text_termination)\n",
    "\n",
    "# Use asyncio.run(...) if you are running this script as a standalone script.\n",
    "await Console(round_robin_team.run_stream(task=\"Write a unique, Haiku about the weather in Paris\"))"
   ]
  }
 ],
 "metadata": {
  "kernelspec": {
   "display_name": "Python 3",
   "language": "python",
   "name": "python3"
  },
  "language_info": {
   "codemirror_mode": {
    "name": "ipython",
    "version": 3
   },
   "file_extension": ".py",
   "mimetype": "text/x-python",
   "name": "python",
   "nbconvert_exporter": "python",
   "pygments_lexer": "ipython3",
   "version": "3.13.1"
  }
 },
 "nbformat": 4,
 "nbformat_minor": 2
}
